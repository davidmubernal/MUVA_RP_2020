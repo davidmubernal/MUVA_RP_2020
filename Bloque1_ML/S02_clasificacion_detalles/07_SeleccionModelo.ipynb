{
 "cells": [
  {
   "cell_type": "markdown",
   "metadata": {},
   "source": [
    "# Selección y rendimiento del clasificador\n",
    "\n",
    "En este cuaderno vamos a realizar un proyecto completo de ML, salvo por la fase de Test.<br>\n",
    "Respecto de cuadernos anteriores, aprenderemos a:\n",
    "+ integrar la validación cruzada en el entrenamiento y la validación\n",
    "+ evaluar el rendimiento de un modelo con la matriz de confusión y la curva ROC\n",
    "+ elegir un modelo entre varios.\n",
    "\n",
    "---\n",
    "    [ES] Código de Alfredo Cuesta Infante para 'Reconocimiento de Patrones'\n",
    "       @ Master Universitario en Visión Artificial, 2020, URJC (España)\n",
    "    [EN] Code by Alfredo Cuesta-Infante for 'Pattern Recognition'\n",
    "       @ Master of Computer Vision, 2020, URJC (Spain)\n",
    "\n",
    "    alfredo.cuesta@urjc.es"
   ]
  },
  {
   "cell_type": "markdown",
   "metadata": {},
   "source": [
    "### Preliminares \n",
    "\n",
    "En la siguiente celda se realizan los siguientes pasos:\n",
    "1. carga de módulos genéricos\n",
    "2. leer los datos y cargarlos en dataframes\n",
    "2. extracción de características"
   ]
  },
  {
   "cell_type": "code",
   "execution_count": 1,
   "metadata": {},
   "outputs": [],
   "source": [
    "#-[1]. Load data from CSV and put all in a single dataframe 'FullSet'\n",
    "\n",
    "import numpy  as np\n",
    "import pandas as pd\n",
    "from matplotlib import pyplot as plt\n",
    "import sys\n",
    "sys.path.append('../../MyUtils/')\n",
    "import MyUtils as my\n",
    "seed = 1234 #<- random generator seed (comment to get randomness)\n",
    "\n",
    "#-[2]. Load data from CSV and put all in a single dataframe 'FullSet'\n",
    "\n",
    "FullSet_0 = pd.read_csv('../../Datasets/1000ceros.csv', header=None)\n",
    "FullSet_1 = pd.read_csv('../../Datasets/1000unos.csv',  header=None)\n",
    "FullSet = my.join_features_labels(FullSet_0,FullSet_1)\n",
    "\n",
    "#-[3]. Convert the 'FullSet' of pixels into the set 'X_full' of features and get the set 'Y_full' of labels\n",
    "\n",
    "theta = 0.5\n",
    "X_full = my.mnist_features( FullSet.drop('label', axis=1), theta=theta )\n",
    "Y_full = FullSet[['label']]"
   ]
  },
  {
   "cell_type": "markdown",
   "metadata": {},
   "source": [
    "## Novedades\n",
    "\n",
    "4. Añadimos un K-fold estratificado para hacer varias ejecuciones.\n",
    "5. Realizamos el reescalado y aprendizaje del clasificador para cada *fold*"
   ]
  },
  {
   "cell_type": "code",
   "execution_count": 2,
   "metadata": {},
   "outputs": [],
   "source": [
    "#-[4]. Split X_full into TRAIN and TEST with Stratified K-Fold \n",
    "\n",
    "from sklearn.model_selection import StratifiedKFold\n",
    "\n",
    "n_splits = 5\n",
    "skf = StratifiedKFold(n_splits=n_splits)\n",
    "skf_ix = skf.split(X_full,Y_full)  \n",
    "\n",
    "train_ix_list=[] #<- :outcome: list of indexes for training\n",
    "valid_ix_list=[] #<- :outcome: list of indexes for validation\n",
    "\n",
    "# skf_ix is a generator\n",
    "# I'm going to convert it into an iterator (a list)\n",
    "for train_ix, valid_ix in skf_ix:\n",
    "    train_ix_list.append(train_ix)\n",
    "    valid_ix_list.append(valid_ix)\n",
    "\n",
    "    \n",
    "#-[5]. For-loop that scales to [0,1] the training subsets and trains\n",
    "\n",
    "from sklearn.preprocessing import MinMaxScaler\n",
    "from sklearn.model_selection import cross_val_predict\n",
    "from sklearn.linear_model import  LogisticRegression\n",
    "\n",
    "scaler = MinMaxScaler()\n",
    "clf = LogisticRegression()\n",
    "\n",
    "count = 0        #<- just for tracking \n",
    "\n",
    "scaler_list=[]   #<- :outcome: list of scalers\n",
    "clf_list=[]      #<- :outcome: list with the classfiers fitted\n",
    "\n",
    "for train_ix in train_ix_list:\n",
    "\n",
    "    #--extract and scale X and y\n",
    "    X = scaler.fit_transform(X_full.iloc[train_ix])\n",
    "    y = Y_full.iloc[train_ix].values.ravel()\n",
    "    scaler_list.append(scaler)\n",
    "    \n",
    "    #--train the classifier and append it to the list\n",
    "    clf.fit(X,y)\n",
    "    clf_list.append(clf)\n",
    "    \n",
    "    count+=1    "
   ]
  },
  {
   "cell_type": "markdown",
   "metadata": {},
   "source": [
    "6. Probar cada clasificador con el fold reservado para validación, que debe ser reescalado"
   ]
  },
  {
   "cell_type": "code",
   "execution_count": 3,
   "metadata": {},
   "outputs": [
    {
     "name": "stdout",
     "output_type": "stream",
     "text": [
      "Fold 0: HITS = 364, FAILS = 36\n",
      "AUROC = 0.97\n",
      "Fold 1: HITS = 367, FAILS = 33\n",
      "AUROC = 0.98\n",
      "Fold 2: HITS = 370, FAILS = 30\n",
      "AUROC = 0.98\n",
      "Fold 3: HITS = 375, FAILS = 25\n",
      "AUROC = 0.98\n",
      "Fold 4: HITS = 357, FAILS = 43\n",
      "AUROC = 0.96\n"
     ]
    },
    {
     "data": {
      "text/plain": [
       "(0.0, 0.5, 0.5, 1.0)"
      ]
     },
     "execution_count": 3,
     "metadata": {},
     "output_type": "execute_result"
    },
    {
     "data": {
      "image/png": "[encoded data removed]",
      "text/plain": [
       "<Figure size 432x288 with 1 Axes>"
      ]
     },
     "metadata": {
      "needs_background": "light"
     },
     "output_type": "display_data"
    }
   ],
   "source": [
    "#-[6]. For-loop that scales to [0,1] the test subsets and evaluates the performance\n",
    "\n",
    "from sklearn.metrics import roc_curve, roc_auc_score, confusion_matrix\n",
    "\n",
    "count = 0  #<- just for tracking\n",
    "\n",
    "hits_list=[]  #<- :outcome: list of hits\n",
    "auroc_list=[] #<- :outcome: list of area under ROCs\n",
    "\n",
    "for valid_ix, scaler, clf in zip(valid_ix_list, scaler_list, clf_list):\n",
    "    \n",
    "    #--scale the fold held-out for validation\n",
    "    X_test = scaler.transform(X_full.iloc[valid_ix])\n",
    "    y_test = Y_full.iloc[valid_ix].values.ravel()\n",
    "    \n",
    "    #--predict the validation fold\n",
    "    y_pred = clf.predict(X_test)       #<- for confusion_matrix\n",
    "    y_prob = clf.predict_proba(X_test) #<- for ROC curves\n",
    "    \n",
    "    #--print out the hits and fails of each fold\n",
    "    conf_mat = confusion_matrix(y_test, y_pred)\n",
    "    hits = conf_mat[0,0]+conf_mat[1,1]\n",
    "    fails = conf_mat[0,1]+conf_mat[1,0]\n",
    "    hits_list.append(hits)\n",
    "    strlog = \"Fold %d: HITS = %d, FAILS = %d\" %(count, hits , fails )\n",
    "    print(strlog)\n",
    "    \n",
    "    #--ROC curves\n",
    "    color_list='brgcy'\n",
    "    fpr, tpr, thresholds = roc_curve(y_test,y_prob[:,1])\n",
    "    # Notice that y_prob contains:\n",
    "    #  the probability of class 0 in the column #0\n",
    "    #  the probability of class 1 in the column #1\n",
    "    # So we use column #1 as predictor\n",
    "    plt.plot(fpr,tpr,color_list[count])\n",
    "    plt.title(\"ROC curves\"); plt.xlabel(\"FPR\"); plt.ylabel(\"TPR\")\n",
    "    # you can also try: metrics.plot_roc_curve(clf, X_test, y_test)\n",
    "    \n",
    "    #--AUROC\n",
    "    auroc = roc_auc_score(y_test, y_prob[:,1])\n",
    "    auroc_list.append(auroc)\n",
    "    strlog = \"AUROC = %0.2f\" %auroc\n",
    "    print(strlog)\n",
    "    \n",
    "    count+=1    \n",
    "\n",
    "plt.axis([0,0.5, 0.5,1]) #<- zoom into the upper-left quarter of the ROC"
   ]
  },
  {
   "cell_type": "code",
   "execution_count": 4,
   "metadata": {},
   "outputs": [
    {
     "name": "stdout",
     "output_type": "stream",
     "text": [
      "Pick model #1\n"
     ]
    },
    {
     "data": {
      "text/plain": [
       "{'penalty': 'l2',\n",
       " 'dual': False,\n",
       " 'tol': 0.0001,\n",
       " 'C': 1.0,\n",
       " 'fit_intercept': True,\n",
       " 'intercept_scaling': 1,\n",
       " 'class_weight': None,\n",
       " 'random_state': None,\n",
       " 'solver': 'lbfgs',\n",
       " 'max_iter': 100,\n",
       " 'multi_class': 'auto',\n",
       " 'verbose': 0,\n",
       " 'warm_start': False,\n",
       " 'n_jobs': None,\n",
       " 'l1_ratio': None,\n",
       " 'n_features_in_': 10,\n",
       " 'classes_': array([0., 1.]),\n",
       " 'coef_': array([[-7.30562933,  0.01481984, -0.3544574 ,  0.48263306,  4.1095241 ,\n",
       "          0.47026533, -0.05525042, -0.92398144, -4.46806801, -0.56135904]]),\n",
       " 'intercept_': array([2.93697896]),\n",
       " 'n_iter_': array([26], dtype=int32)}"
      ]
     },
     "execution_count": 4,
     "metadata": {},
     "output_type": "execute_result"
    }
   ],
   "source": [
    "#-[7]. Select the model\n",
    "\n",
    "listMean = lambda x : sum(x)/len(x)\n",
    "hits_mean =  listMean(hits_list)\n",
    "model_ix = np.argmin( abs(hits_list - hits_mean) ) \n",
    "\n",
    "model = clf_list[model_ix] #<--MY CHOICE !\n",
    "\n",
    "logstr = \"Pick model #%d\" %model_ix\n",
    "print(logstr)\n",
    "\n",
    "model.__dict__"
   ]
  },
  {
   "cell_type": "markdown",
   "metadata": {},
   "source": [
    "## Ejercicio\n",
    "\n",
    "1. Empaquetar en funciones los bloques 4, 5 y 6\n",
    "2. Modificar el código para realizar un proyecto ML completo que incluya probar con un conjunto de Test que sea el 10% del conjunto de datos dado."
   ]
  },
  {
   "cell_type": "markdown",
   "metadata": {},
   "source": [
    "### Solucion"
   ]
  },
  {
   "cell_type": "code",
   "execution_count": null,
   "metadata": {},
   "outputs": [],
   "source": []
  }
 ],
 "metadata": {
  "kernelspec": {
   "display_name": "Python 3",
   "language": "python",
   "name": "python3"
  },
  "language_info": {
   "codemirror_mode": {
    "name": "ipython",
    "version": 3
   },
   "file_extension": ".py",
   "mimetype": "text/x-python",
   "name": "python",
   "nbconvert_exporter": "python",
   "pygments_lexer": "ipython3",
   "version": "3.7.9"
  }
 },
 "nbformat": 4,
 "nbformat_minor": 4
}
