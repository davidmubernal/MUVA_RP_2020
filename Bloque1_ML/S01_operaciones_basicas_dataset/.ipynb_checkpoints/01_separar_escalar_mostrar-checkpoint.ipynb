{
 "cells": [
  {
   "cell_type": "markdown",
   "metadata": {},
   "source": [
    "# Operaciones básicas sobre el conjunto de datos\n",
    "### - Separación\n",
    "Creación de los conjuntos de entrenamieto, validación y test\n",
    "### - Escalado\n",
    "Unificación de todos los atributos al mismo intervalo\n",
    "### - Visualización\n",
    "\n",
    "---\n",
    "\n",
    "    [ES] Código de Alfredo Cuesta Infante para 'Reconocimiento de Patrones'\n",
    "       @ Master Universitario en Visión Artificial, 2020, URJC (España)\n",
    "    [EN] Code by Alfredo Cuesta-Infante for 'Pattern Recognition'\n",
    "       @ Master of Computer Vision, 2020, URJC (Spain)\n",
    "\n",
    "    alfredo.cuesta@urjc.es"
   ]
  },
  {
   "cell_type": "code",
   "execution_count": 12,
   "metadata": {},
   "outputs": [],
   "source": [
    "import numpy  as np\n",
    "import pandas as pd\n",
    "from matplotlib import pyplot as plt"
   ]
  },
  {
   "cell_type": "code",
   "execution_count": 31,
   "metadata": {},
   "outputs": [],
   "source": [
    "def main():\n",
    "\n",
    "    theta = 0.5              #<- parameter for feature engineering\n",
    "    fraction_Test = 0.2      #<- Percentage of the dataset held for test, in [0,1]\n",
    "    fraction_Valid= 0.2      #<- Percentage of the train set held for validation, in [0,1]\n",
    "    instance_ID_to_show = 0  #<- index of the instance of 0 and 1 that will be shown in a figure\n",
    "    np.random.seed(seed=123) #<- to force that every run produces the same outcome\n",
    "                             #    (comment, or remove, to get randomness)\n",
    "        \n",
    "    # --- Get data -------------------------------------\n",
    "    FullSet_0 = pd.read_csv('../../Datasets/1000ceros.csv', header=None)\n",
    "    FullSet_1 = pd.read_csv('../../Datasets/1000unos.csv',  header=None)\n",
    "\n",
    "    # --- Separate Test set -----------------------------\n",
    "    TrainSet_0, TestSet_0 = split_train_test(FullSet_0, fraction_Test)\n",
    "    TrainSet_1, TestSet_1 = split_train_test(FullSet_1, fraction_Test)\n",
    "\n",
    "    # --- Separate Validation set -----------------------\n",
    "    TrainSet_0, ValidSet_0 = split_train_test(TrainSet_0, fraction_Valid)\n",
    "    TrainSet_1, ValidSet_1 = split_train_test(TrainSet_1, fraction_Valid)\n",
    "    \n",
    "    # --- Scale the Train set ---------------------------\n",
    "    text1=max(TrainSet_0)\n",
    "    TrainSet_0 = scale_to_unit_new(TrainSet_0, max(TrainSet_0), min(TrainSet_0))\n",
    "    text2=max(TrainSet_0)\n",
    "    TrainSet_1 = scale_to_unit_new(TrainSet_1, max(TrainSet_1), min(TrainSet_1))\n",
    "    \n",
    "    # --- Plot the whole Data Sets\n",
    "    f1, (ax1, ax2) = plt.subplots(1, 2, sharey=True)\n",
    "    ax1.imshow(TrainSet_0,cmap='Blues')\n",
    "    ax2.imshow(TrainSet_1,cmap='Blues')\n",
    "    #--> 2 figures in which each row is a row of the dataset\n",
    "    \n",
    "    # --- Plot an instance of ZERO\n",
    "    f2, (ax1, ax2) = plt.subplots(1, 2, sharex=True, sharey=True)\n",
    "    instance_0 = TrainSet_0.iloc[instance_ID_to_show].values\n",
    "    ax1.imshow(np.reshape(instance_0,[28,28]), 'Blues')\n",
    "    # --- Plot an instance of ONE\n",
    "    instance_1 = TrainSet_1.iloc[[instance_ID_to_show]].values\n",
    "    ax2.imshow(np.reshape(instance_1,[28,28]), 'Blues')\n",
    "    #--> one figure with the selected instance of 0 and the other with the selected instance of 1\n",
    "    \n",
    "    plt.show(f1)\n",
    "    plt.show(f2)\n",
    "    \n",
    "    return(test1,test2)"
   ]
  },
  {
   "cell_type": "code",
   "execution_count": 14,
   "metadata": {},
   "outputs": [],
   "source": [
    "def split_train_test(data, test_ratio):\n",
    "    # data is the complete dataframe\n",
    "    # test_ratio is in [0,1], and represents the percentage of the dataframe held for testing\n",
    "    shuffled_indices = np.random.permutation(len(data))\n",
    "    test_set_size = int(len(data) * test_ratio)\n",
    "    test_indices = shuffled_indices[:test_set_size]\n",
    "    train_indices = shuffled_indices[test_set_size:]\n",
    "    train_set = data.iloc[train_indices]\n",
    "    test_set  = data.iloc[test_indices]\n",
    "    return train_set.reset_index(drop=True), test_set.reset_index(drop=True)"
   ]
  },
  {
   "cell_type": "code",
   "execution_count": 15,
   "metadata": {},
   "outputs": [],
   "source": [
    "def scale_to_unit(data):\n",
    "    # Since all the pixels are in [0,255] we know the max and min for every possible pixel\n",
    "    # --> so we can scale all the data at the same time\n",
    "    # Usually we have to learn the max and min of the training set and save it to scale wrt them\n",
    "    data = (data / 255.0)\n",
    "    return data"
   ]
  },
  {
   "cell_type": "code",
   "execution_count": 33,
   "metadata": {},
   "outputs": [],
   "source": [
    "def scale_to_unit_new(data, max_value, min_value):\n",
    "    prop = (1-0)/(max_value-min_value)\n",
    "    offset = 0-(min_value*prop)\n",
    "    data = (data*prop+offset)\n",
    "    return data"
   ]
  },
  {
   "cell_type": "code",
   "execution_count": 34,
   "metadata": {},
   "outputs": [
    {
     "name": "stdout",
     "output_type": "stream",
     "text": [
      "783\n",
      "783\n"
     ]
    },
    {
     "ename": "TypeError",
     "evalue": "scale_to_unit() takes 1 positional argument but 3 were given",
     "output_type": "error",
     "traceback": [
      "\u001b[1;31m---------------------------------------------------------------------------\u001b[0m",
      "\u001b[1;31mTypeError\u001b[0m                                 Traceback (most recent call last)",
      "\u001b[1;32m<ipython-input-34-69388177b62f>\u001b[0m in \u001b[0;36m<module>\u001b[1;34m\u001b[0m\n\u001b[1;32m----> 1\u001b[1;33m \u001b[0mtest\u001b[0m\u001b[1;33m=\u001b[0m\u001b[0mmain\u001b[0m\u001b[1;33m(\u001b[0m\u001b[1;33m)\u001b[0m\u001b[1;33m\u001b[0m\u001b[1;33m\u001b[0m\u001b[0m\n\u001b[0m",
      "\u001b[1;32m<ipython-input-31-6583168d48e5>\u001b[0m in \u001b[0;36mmain\u001b[1;34m()\u001b[0m\n\u001b[0;32m     24\u001b[0m     \u001b[0mTrainSet_0\u001b[0m \u001b[1;33m=\u001b[0m \u001b[0mscale_to_unit_new\u001b[0m\u001b[1;33m(\u001b[0m\u001b[0mTrainSet_0\u001b[0m\u001b[1;33m,\u001b[0m \u001b[0mmax\u001b[0m\u001b[1;33m(\u001b[0m\u001b[0mTrainSet_0\u001b[0m\u001b[1;33m)\u001b[0m\u001b[1;33m,\u001b[0m \u001b[0mmin\u001b[0m\u001b[1;33m(\u001b[0m\u001b[0mTrainSet_0\u001b[0m\u001b[1;33m)\u001b[0m\u001b[1;33m)\u001b[0m\u001b[1;33m\u001b[0m\u001b[1;33m\u001b[0m\u001b[0m\n\u001b[0;32m     25\u001b[0m     \u001b[0mprint\u001b[0m\u001b[1;33m(\u001b[0m\u001b[0mmax\u001b[0m\u001b[1;33m(\u001b[0m\u001b[0mTrainSet_0\u001b[0m\u001b[1;33m)\u001b[0m\u001b[1;33m)\u001b[0m\u001b[1;33m\u001b[0m\u001b[1;33m\u001b[0m\u001b[0m\n\u001b[1;32m---> 26\u001b[1;33m     \u001b[0mTrainSet_1\u001b[0m \u001b[1;33m=\u001b[0m \u001b[0mscale_to_unit\u001b[0m\u001b[1;33m(\u001b[0m\u001b[0mTrainSet_1\u001b[0m\u001b[1;33m,\u001b[0m \u001b[0mmax\u001b[0m\u001b[1;33m(\u001b[0m\u001b[0mTrainSet_1\u001b[0m\u001b[1;33m)\u001b[0m\u001b[1;33m,\u001b[0m \u001b[0mmin\u001b[0m\u001b[1;33m(\u001b[0m\u001b[0mTrainSet_1\u001b[0m\u001b[1;33m)\u001b[0m\u001b[1;33m)\u001b[0m\u001b[1;33m\u001b[0m\u001b[1;33m\u001b[0m\u001b[0m\n\u001b[0m\u001b[0;32m     27\u001b[0m \u001b[1;33m\u001b[0m\u001b[0m\n\u001b[0;32m     28\u001b[0m     \u001b[1;31m# --- Plot the whole Data Sets\u001b[0m\u001b[1;33m\u001b[0m\u001b[1;33m\u001b[0m\u001b[1;33m\u001b[0m\u001b[0m\n",
      "\u001b[1;31mTypeError\u001b[0m: scale_to_unit() takes 1 positional argument but 3 were given"
     ]
    }
   ],
   "source": [
    "test=main()"
   ]
  },
  {
   "cell_type": "code",
   "execution_count": null,
   "metadata": {},
   "outputs": [],
   "source": []
  },
  {
   "cell_type": "markdown",
   "metadata": {},
   "source": [
    "#### Ejercicio. \n",
    "\n",
    "Modificar el main para que muestre la imagen del 0 y del 1 número 800. \n",
    "\n",
    "+ Si da error explicar por qué. \n",
    "+ Averiguar cual es el mayor índice de la imagen del 0 y del 1 que podemos mostrar.<br>\n",
    "    <u>*AYUDA*</u>: añadir un **print** dentro de **main** para ver la información que necesitas"
   ]
  },
  {
   "cell_type": "markdown",
   "metadata": {},
   "source": [
    "#### Ejercicio. \n",
    "Modificar la funcion **Scale_to_unit** para que reciba\n",
    "\n",
    "+ un dataframe\n",
    "+ un vector con el valor máximo de cada columna\n",
    "+ un vector con el valor mínimo de cada columna\n",
    "\n",
    "y devuelva un dataframe donde cada columna está escalada al [0,1]. \n",
    "\n",
    "Después modifica el resto del código para que vuelva a funcionar correctamente todo."
   ]
  }
 ],
 "metadata": {
  "kernelspec": {
   "display_name": "Python 3",
   "language": "python",
   "name": "python3"
  },
  "language_info": {
   "codemirror_mode": {
    "name": "ipython",
    "version": 3
   },
   "file_extension": ".py",
   "mimetype": "text/x-python",
   "name": "python",
   "nbconvert_exporter": "python",
   "pygments_lexer": "ipython3",
   "version": "3.8.6"
  }
 },
 "nbformat": 4,
 "nbformat_minor": 2
}
