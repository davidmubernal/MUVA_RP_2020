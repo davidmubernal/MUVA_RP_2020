{
 "cells": [
  {
   "cell_type": "markdown",
   "metadata": {
    "collapsed": true
   },
   "source": [
    "# Extracción de características\n",
    "\n",
    "En este cuaderno vamos a extraer dos características sencillas de los conjuntos de datos *1000ceros.csv* y *1000unos.csv*: la \"anchura\" y la \"altura\" de la cifra que se ve en una imagen.\n",
    "\n",
    "---\n",
    "    [ES] Código de Alfredo Cuesta Infante para 'Reconocimiento de Patrones'\n",
    "       @ Master Universitario en Visión Artificial, 2020, URJC (España)\n",
    "    [EN] Code by Alfredo Cuesta-Infante for 'Pattern Recognition'\n",
    "       @ Master of Computer Vision, 2020, URJC (Spain)\n",
    "\n",
    "    alfredo.cuesta@urjc.es"
   ]
  },
  {
   "cell_type": "code",
   "execution_count": 1,
   "metadata": {},
   "outputs": [],
   "source": [
    "import numpy  as np\n",
    "import pandas as pd\n",
    "from matplotlib import pyplot as plt"
   ]
  },
  {
   "cell_type": "code",
   "execution_count": 2,
   "metadata": {},
   "outputs": [],
   "source": [
    "FullSet_0 = pd.read_csv('../../Datasets/1000ceros.csv', header=None)\n",
    "FullSet_1 = pd.read_csv('../../Datasets/1000unos.csv',  header=None)\n",
    "\n",
    "#--Quick rescale to [0,1] given that any pixel is in [0,255]\n",
    "FullSet_0 = (FullSet_0 / 255.0)\n",
    "FullSet_1 = (FullSet_1 / 255.0)"
   ]
  },
  {
   "cell_type": "markdown",
   "metadata": {},
   "source": [
    "Vamos a crear dos características (*feature*) a partir de los píxeles de una imagen elegida con la variable **seleccion**.\n",
    "\n",
    "Para ello calcularemos la suma de cada fila y de cada columna de la imagen, y después la normalizaremos a [0,1]. \n",
    "\n",
    "Las dos características que vamos a calcular son la *anchura* y *altura* de la imagen.\n",
    "\n",
    "+ La *anchura* = número de columnas entre la primera y la última que tienen más de un $\\theta$ % del máximo\n",
    "+ La *altura*  = número de filas entre la primera y la última que tienen más de un $\\theta$ % del máximo<br>\n",
    "    ( $\\theta$  es otra variable ) \n",
    "\n",
    "Finalmente creamos un dataframe con ambas"
   ]
  },
  {
   "cell_type": "code",
   "execution_count": 3,
   "metadata": {},
   "outputs": [
    {
     "data": {
      "image/png": "[encoded data removed]",
      "text/plain": [
       "<Figure size 504x504 with 4 Axes>"
      ]
     },
     "metadata": {
      "needs_background": "light"
     },
     "output_type": "display_data"
    },
    {
     "data": {
      "text/html": [
       "<div>\n",
       "<style scoped>\n",
       "    .dataframe tbody tr th:only-of-type {\n",
       "        vertical-align: middle;\n",
       "    }\n",
       "\n",
       "    .dataframe tbody tr th {\n",
       "        vertical-align: top;\n",
       "    }\n",
       "\n",
       "    .dataframe thead th {\n",
       "        text-align: right;\n",
       "    }\n",
       "</style>\n",
       "<table border=\"1\" class=\"dataframe\">\n",
       "  <thead>\n",
       "    <tr style=\"text-align: right;\">\n",
       "      <th></th>\n",
       "      <th>width</th>\n",
       "      <th>height</th>\n",
       "    </tr>\n",
       "  </thead>\n",
       "  <tbody>\n",
       "    <tr>\n",
       "      <th>0</th>\n",
       "      <td>14</td>\n",
       "      <td>17</td>\n",
       "    </tr>\n",
       "  </tbody>\n",
       "</table>\n",
       "</div>"
      ],
      "text/plain": [
       "   width  height\n",
       "0     14      17"
      ]
     },
     "execution_count": 3,
     "metadata": {},
     "output_type": "execute_result"
    }
   ],
   "source": [
    "theta = 0.5  #<- feature parameter\n",
    "seleccion = 0 #<- index of the selected instance\n",
    "\n",
    "x = FullSet_0.iloc[seleccion].values.reshape([28,28])\n",
    "\n",
    "#--width feature\n",
    "sum_cols = x.sum(axis=0)\n",
    "indc = np.argwhere(sum_cols > theta * sum_cols.max())\n",
    "width = indc[-1] - indc[0]\n",
    "\n",
    "#--height feature\n",
    "sum_rows = x.sum(axis=1)\n",
    "indr = np.argwhere(sum_rows > theta * sum_rows.max())\n",
    "height = indr[-1] - indr[0]\n",
    "features_df = pd.DataFrame({'width':width, 'height':height})\n",
    "\n",
    "##------------ we can visualize and print the two features \n",
    "plt.rcParams['figure.figsize'] = [7,7] #<- this makes the figures larger in Jupyter\n",
    "plt.subplot(221)\n",
    "plt.plot(sum_cols)\n",
    "plt.plot(indc[[0,-1]],sum_cols[indc[[0,0]]],'r')\n",
    "plt.title('columns -> width')\n",
    "plt.subplot(222)\n",
    "plt.plot(sum_rows)\n",
    "plt.plot(indr[[0,-1]],sum_rows[indr[[0,0]]],'m')\n",
    "plt.title('rows -> height')\n",
    "plt.subplot(223)\n",
    "plt.imshow(x,cmap='Blues')\n",
    "plt.plot(indc[[0,-1]],sum_cols[indc[[0,0]]],'r')\n",
    "plt.plot(sum_rows[indr[[0,0]]],indr[[0,-1]],'m')\n",
    "plt.title('Input space')\n",
    "plt.subplot(224)\n",
    "plt.plot(width,height,'o')\n",
    "plt.axis([0,30,0,30])\n",
    "plt.title('Feature space')\n",
    "plt.show()\n",
    "features_df"
   ]
  },
  {
   "cell_type": "markdown",
   "metadata": {},
   "source": [
    "En la celda de arriba hemos credo dos características a partir de la imagen.\n",
    "\n",
    "Al principio, la imagen $x$(escalada al intervalo unidad) se puede considerar como un punto en el espacio ${[0,1]}^{28\\times28}$. <br>\n",
    "Sin embargo no todos los píxeles aportar información útil. \n",
    "\n",
    "La ingeniería de características consiste en extraer la información que pueda ser relevante para describir el dato de entrada *crudo*.<br>\n",
    "En este caso, hemos diseñado una manera de extraer la *altura* y la *anchura* del número de entrada.\n",
    "Este método se puede ver como dos funciones $f_H$ y $f_W$ que mapean el dato de entrada a una característica\n",
    "\n",
    "$f_H : {[0,1]}^{28\\times28} \\longrightarrow \\mathbb{R}$, tal que  $f_H(x) = \\mathrm{height}, \\quad$\n",
    "y\n",
    "$\\quad f_W : {[0,1]}^{28\\times28} \\longrightarrow \\mathbb{R}$, tal que  $f_W(x) = \\mathrm{width}.$\n",
    "\n",
    "En definitiva, la imagen de resolución $28\\times28$ se representa por un punto 2D (height,width), que podemos pintar facilmente.\n",
    "\n",
    "En la figura se denomina \"espacio de entrada\" (*input space*) al espacio donde viven los datos de entrada *crudos*, y \"espacio de características\" (*feature space*) al espacio donde viven las representación de los datos diseñadas o elegidas."
   ]
  },
  {
   "cell_type": "markdown",
   "metadata": {},
   "source": [
    "### Ejercicio\n",
    "En la celda de arriba hemos creado un vector 2D de características (*height*, *width*) para **una** imagen seleccionada de un dataframe.\n",
    "\n",
    "Pero la extracción de características se debe realizar sobre todos los datos (entrenamiento, validación, test, y los datos nuevos que lleguen una vez se ponga la máquina en producción). Por tanto nos conviene tener una función que realice esta tarea sobre un dataframe\n",
    "\n",
    "\n",
    "Crear una función **feat_width** que:\n",
    "+ Reciba un dataframe, del cual sabemos lo que representa cada fila y columna\n",
    "    - En esta caso cada fila es una imagen de 0 o de 1, serializada en un vector de 784 elementos.\n",
    "    - Cada columna es el valor de un pixel, normalizado al intervalo [0,1]\n",
    "    - Todas las imágenes son en escala de grises, por lo que no hay 3 canales (R,G,B), sólo 1.\n",
    "+ Reciba un parametro **theta** para ajustar la característica, por defecto = 0.1    \n",
    "+ Devuelva un dataframe con una columna llamada **width** y tantas filas como filas tiene el dataframe de entrada\n",
    "\n",
    "Después crear otra función **feat_height** con las mismas características, pero para la altura (**height**)\n",
    "\n",
    "**Ayuda:** Una matriz de 1000 filas y 784 columnas (1000 x 784) se puede transformar en otra de 1000 x 28 x 28<br>\n",
    "Prueba el siguiente código para verlo mejor:\n",
    "\n",
    "    data = FullSet_0.values           #<- volcado del dataframe en un numpy array de forma 1000x784 \n",
    "    data = data.reshape([1000,28,28]) #<- cambiamos la forma de 'data', de matriz 2D pasa a 3D\n",
    "    plt.imshow(data[15,:,:])          #<- mostrar la imagen número 15 <br>\n",
    "\n",
    "**Comentario** Recuerda que utilizar bucles es inneficiente cuando se usan lenguajes o bibliotecas optimizadas para vectores como Matlab o Numpy. Hay que intentar pensar en como operar con las matrices N-dimensionales; o al menos intentar operar con matrices 2D. <br>\n",
    "Por ejemplo, cuando tratamos con imágenes en escala de grises, podemos utilizar el eje 0 para indexarlas, el eje 1 para las filas y el eje 2 para las columnas de la matriz 2D que representa cada imagen. <br>\n",
    "Así podemos utilizar un for para recorrer cada imagen y luego utilizar los métodos matriciales para evitar recorrer las filas y las columnas.\n",
    "\n",
    "\n",
    "**¡Cuidado!** Cuando se hace **reshape** para pasar de 2D a 3D con el código de arriba, la matriz 28x28 se forma colocando una fila de 28 elementos sobre otra. Prueba el siguiente código para verlo mejor:\n",
    "\n",
    "    foo=np.ceil(np.random.rand(2,12)*10)\n",
    "    print('\\n original-------------------\\n'); print(foo)\n",
    "    print('\\n reshape([2,3,4])-----------\\n'); print(foo.reshape([2,3,4]))"
   ]
  },
  {
   "cell_type": "code",
   "execution_count": 4,
   "metadata": {},
   "outputs": [],
   "source": [
    "def feat_width(data, theta = None):\n",
    "    if theta == None:\n",
    "        theta = 0.1\n",
    "    data = FullSet_0.values\n",
    "    data = data.reshape([1000,28,28])\n",
    "    features = pd.DataFrame(columns=['width'])\n",
    "    for i in range(data.shape[0]):\n",
    "        a = data[i,:,:]\n",
    "        sum_cols = a.sum(axis=0)  # sumamos las columnas\n",
    "        indc = np.argwhere(sum_cols > theta * sum_cols.max())  # miramos si la suma de columnas es mayor que el % del valor máximo de la suma\n",
    "        width = indc[-1] - indc[0] \n",
    "        features = features.append({'width': width}, ignore_index=True)\n",
    "    return features"
   ]
  },
  {
   "cell_type": "code",
   "execution_count": 5,
   "metadata": {},
   "outputs": [],
   "source": [
    "def feat_height(data, theta = None):\n",
    "    if theta == None:\n",
    "        theta = 0.1\n",
    "    data = FullSet_0.values\n",
    "    data = data.reshape([1000,28,28])\n",
    "    features = pd.DataFrame(columns=['height'])\n",
    "    for i in range(data.shape[0]):\n",
    "        a = data[i,:,:]\n",
    "        sum_rows = a.sum(axis=1)  # sumamos las filas\n",
    "        indc = np.argwhere(sum_rows > theta * sum_rows.max())  # miramos si la suma de columnas es mayor que el % del valor máximo de la suma\n",
    "        height = indc[-1] - indc[0] \n",
    "        features = features.append({'height': height}, ignore_index=True)\n",
    "    return features"
   ]
  },
  {
   "cell_type": "markdown",
   "metadata": {},
   "source": [
    "### Ejercicio\n",
    "Visualizar la anchura frente a la altura de cada uno de las imágenes de *FullSet_0* y de *FullSet_1*.<br>\n",
    "+ Puedes elegir el **theta** que quieras.\n",
    "+ Utiliza un color diferente para cada una de ellas. Además es recomendable utilizar un nivel de transparencia (alpha) bajo, entre 0.1 y 0.2.\n",
    "\n",
    "Como habrá muchos pares (anchura,altura) que coincidan, una buena idea es separarlos un poco añadiendo una agitación o *jitter*. En el siguiente código es una función que genera un *jitter* gaussiano, centrado en 0 y con una desviación *sigma*, que además puede ser positivo o negativo, sobre un vector de numpy o una serie de pandas, X.\n",
    "\n",
    "    def jitter(X,sigma=0.3):\n",
    "        random_sign = (-1)**np.random.randint(1,3,*X.shape)\n",
    "        return X + np.random.normal(0,sigma,*X.shape)*random_sign"
   ]
  },
  {
   "cell_type": "code",
   "execution_count": 6,
   "metadata": {},
   "outputs": [],
   "source": [
    "width_0 = feat_width(FullSet_0,theta=0.5)\n",
    "width_1 = feat_width(FullSet_1,theta=0.5)\n",
    "height_0 = feat_height(FullSet_0,theta=0.5)\n",
    "height_1 = feat_height(FullSet_1,theta=0.5)\n",
    "\n",
    "if 'FeatSet_0' in locals(): del FeatSet_0 #<- good practice in notebook because i am concatenaning in next line\n",
    "FeatSet_0 = pd.concat([width_0,height_0],axis=1)\n",
    "if 'FeatSet_1' in locals(): del FeatSet_1 #<- good practice in notebook because i am concatenaning in next line\n",
    "FeatSet_1 = pd.concat([width_1,height_1],axis=1)\n",
    "\n",
    "\n",
    "sigma=0.2\n",
    "alpha=0.2\n",
    "plt.plot(jitter(FeatSet_0['width'],sigma), jitter(FeatSet_0['height'],sigma),'yo',alpha=alpha)\n",
    "plt.plot(jitter(FeatSet_1['width'],sigma), jitter(FeatSet_1['height'],sigma),'bx',alpha=alpha)\n",
    "plt.xlabel('width')\n",
    "plt.ylabel('height')\n",
    "plt.title('0(yellow) vs.1(blue),  with theta=%0.2f'%theta)\n",
    "plt.show()"
   ]
  },
  {
   "cell_type": "code",
   "execution_count": 7,
   "metadata": {},
   "outputs": [],
   "source": [
    "def jitter(X,sigma=0.3):\n",
    "    random_sign = (-1)**np.random.randint(1,3,*X.shape)\n",
    "    return X + np.random.normal(0,sigma,*X.shape)*random_sign"
   ]
  },
  {
   "cell_type": "markdown",
   "metadata": {},
   "source": [
    "### Ejercicio\n",
    "1. Crear la función **feat_3max_cols** que reciba un dataframe con las imágenes serializadas y devuelva un dataframe con 3 columnas y 1000 filas.\n",
    "    - cada fila de los dataframes se corresponden con una imagen\n",
    "    - las columnas del dataframe obtenido son las columnas donde se encuentran los máximos de anchura (ver la primera imagen)\n",
    "    \n",
    "2. Crear la función **feat_3max_rows** que reciba un dataframe con las imágenes serializadas y devuelva un dataframe con 3 columnas y 1000 filas.\n",
    "    - cada fila de los dataframes se corresponden con una imagen\n",
    "    - las columnas del dataframe obtenido son las columnas donde se encuentran los máximos de altura (ver la primera imagen)\n",
    "    \n",
    "3. Añadir a los dataframes **FeatSet_0** y **FeatSet_1** las nuevas 6 características\n",
    "\n",
    "4. Visualizar diferentes pares de características usando el mísmo código de colores que arriba."
   ]
  }
 ],
 "metadata": {
  "kernelspec": {
   "display_name": "Python 3",
   "language": "python",
   "name": "python3"
  },
  "language_info": {
   "codemirror_mode": {
    "name": "ipython",
    "version": 3
   },
   "file_extension": ".py",
   "mimetype": "text/x-python",
   "name": "python",
   "nbconvert_exporter": "python",
   "pygments_lexer": "ipython3",
   "version": "3.8.6"
  }
 },
 "nbformat": 4,
 "nbformat_minor": 2
}
